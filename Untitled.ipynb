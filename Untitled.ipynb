{
 "cells": [
  {
   "cell_type": "code",
   "execution_count": null,
   "id": "df1eb10b",
   "metadata": {},
   "outputs": [
    {
     "name": "stdout",
     "output_type": "stream",
     "text": [
      "enter agility of yash90\n",
      "enter strength of yash80\n",
      "enter speed of yash80\n",
      "yash\n",
      "should play Javelin Throw\n",
      "diet plan of yash is \n",
      "\"\n",
      "4 breads,\n",
      "1 cup curd,\n",
      "1000 ml Milk,\n",
      "6 Almonds,\n",
      "2 cup rice,\n",
      "250 gm roasted panner,\n",
      "1 cup Dal,\n",
      "50 g SoyaChunks,\n",
      "6 Chappati,\n",
      "8 boil eggs\n",
      "\n",
      "\n"
     ]
    }
   ],
   "source": [
    "constant={\n",
    "    1: ['yash',12,172,62,'javelin'],\n",
    "    2: ['Hardik',12,171,68,'cricket'],\n",
    "    3: ['Pratham',12,168,55,'javelin'],\n",
    "    4: ['Sarandeep',12,175,75,'javelin']\n",
    "    \n",
    "}\n",
    "diet1=\"\"\"\"\n",
    "1/2 cup curd,\n",
    "500 ml Milk,\n",
    "6 Almonds,\n",
    "1 cup rice,\n",
    "250 gm roasted panner,\n",
    "1 cup Dal,\n",
    "50 g SoyaChunks,\n",
    "2 Chappati\n",
    "\n",
    "\"\"\"\n",
    "diet2=\"\"\"\"\n",
    "4 breads,\n",
    "1 cup curd,\n",
    "1000 ml Milk,\n",
    "6 Almonds,\n",
    "2 cup rice,\n",
    "250 gm roasted panner,\n",
    "1 cup Dal,\n",
    "50 g SoyaChunks,\n",
    "6 Chappati,\n",
    "8 boil eggs\n",
    "\n",
    "\"\"\"\n",
    "for i in constant:\n",
    "    agility=int(input(f\"enter agility of {constant[i][0]}\"))\n",
    "    strength=int(input(f\"enter strength of {constant[i][0]}\"))\n",
    "    speed=int(input(f\"enter speed of {constant[i][0]}\"))\n",
    "    name=constant[i][0]\n",
    "    print(f'{name}')\n",
    "    if agility>80:\n",
    "        if speed>40 :\n",
    "            if strength>70:\n",
    "                print('should play Javelin Throw')\n",
    "            else:\n",
    "                print('should play Cricket')\n",
    "        else:\n",
    "             print('should sit on Home')\n",
    "    else:\n",
    "        if speed>60:\n",
    "            print('should play Football')\n",
    "        else:\n",
    "            if strength<50:\n",
    "                print('Should Sit on Home')\n",
    "            else:\n",
    "                print('Should play Cricket')\n",
    "    bw=constant[i][3]\n",
    "    height=constant[i][2]\n",
    "    bw=bw*bw\n",
    "    bmi=bw/height\n",
    "    print(f'diet plan of {name} is ')\n",
    "    if bmi>25:\n",
    "        print(f'{diet1}')\n",
    "    else:\n",
    "        print(f'{diet2}')\n",
    "\n"
   ]
  },
  {
   "cell_type": "code",
   "execution_count": null,
   "id": "9648193f",
   "metadata": {},
   "outputs": [],
   "source": []
  },
  {
   "cell_type": "code",
   "execution_count": null,
   "id": "df1bfac7",
   "metadata": {},
   "outputs": [],
   "source": []
  },
  {
   "cell_type": "code",
   "execution_count": null,
   "id": "be783939",
   "metadata": {},
   "outputs": [],
   "source": []
  },
  {
   "cell_type": "code",
   "execution_count": null,
   "id": "a302d460",
   "metadata": {},
   "outputs": [],
   "source": []
  }
 ],
 "metadata": {
  "kernelspec": {
   "display_name": "Python 3 (ipykernel)",
   "language": "python",
   "name": "python3"
  },
  "language_info": {
   "codemirror_mode": {
    "name": "ipython",
    "version": 3
   },
   "file_extension": ".py",
   "mimetype": "text/x-python",
   "name": "python",
   "nbconvert_exporter": "python",
   "pygments_lexer": "ipython3",
   "version": "3.11.5"
  }
 },
 "nbformat": 4,
 "nbformat_minor": 5
}
